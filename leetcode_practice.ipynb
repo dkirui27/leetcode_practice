{
 "cells": [
  {
   "cell_type": "markdown",
   "metadata": {},
   "source": [
    "# Leetcode Practice"
   ]
  },
  {
   "cell_type": "markdown",
   "metadata": {},
   "source": [
    "## 122. Best Time to Buy and Sell Stock II"
   ]
  },
  {
   "cell_type": "markdown",
   "metadata": {},
   "source": [
    "Say you have an array prices for which the ith element is the price of a given stock on day i.\n",
    "\n",
    "Design an algorithm to find the maximum profit. You may complete as many transactions as you like (i.e., buy one and sell one share of the stock multiple times).\n",
    "\n",
    "Note: You may not engage in multiple transactions at the same time (i.e., you must sell the stock before you buy again)."
   ]
  },
  {
   "cell_type": "code",
   "execution_count": 2,
   "metadata": {},
   "outputs": [],
   "source": [
    "#function\n",
    "def maxProfit( prices):\n",
    "    profit = []\n",
    "    for i in range(1,len(prices)):\n",
    "        profit.append(prices[i] - prices[i-1]) #taking the difference\n",
    "\n",
    "    for i,num in enumerate(profit): #replacing neg differences with zero\n",
    "        if num <= 0:\n",
    "            profit[i] = 0\n",
    "        else:\n",
    "            profit[i] = num\n",
    "\n",
    "    return sum(profit)\n",
    "\n",
    "\n",
    "    #buy when low, sell when high\n",
    "    #sum all profits\n",
    "    #Runtime: 76 ms, faster than 34.17% of Python3 online submissions for Best Time to Buy and Sell Stock II.\n",
    "    #Memory Usage: 15.2 MB, less than 48.17% of Python3 online submissions for Best Time to Buy and Sell Stock II."
   ]
  },
  {
   "cell_type": "code",
   "execution_count": 3,
   "metadata": {},
   "outputs": [
    {
     "data": {
      "text/plain": [
       "7"
      ]
     },
     "execution_count": 3,
     "metadata": {},
     "output_type": "execute_result"
    }
   ],
   "source": [
    "#test\n",
    "test = [7,1,5,3,6,4]\n",
    "maxProfit(test)"
   ]
  },
  {
   "cell_type": "markdown",
   "metadata": {},
   "source": [
    "Input: [7,1,5,3,6,4]\n",
    "\n",
    "Output: 7\n",
    "\n",
    "Explanation: Buy on day 2 (price = 1) and sell on day 3 (price = 5), profit = 5-1 = 4.\n",
    "             Then buy on day 4 (price = 3) and sell on day 5 (price = 6), profit = 6-3 = 3."
   ]
  },
  {
   "cell_type": "markdown",
   "metadata": {},
   "source": [
    "# 189. Rotate Array"
   ]
  },
  {
   "cell_type": "markdown",
   "metadata": {},
   "source": [
    "Given an array, rotate the array to the right by k steps, where k is non-negative.\n",
    "\n",
    "Follow up:\n",
    "\n",
    "Try to come up as many solutions as you can, there are at least 3 different ways to solve this problem.\n",
    "Could you do it in-place with O(1) extra space?"
   ]
  },
  {
   "cell_type": "code",
   "execution_count": 38,
   "metadata": {},
   "outputs": [],
   "source": [
    "def rotate(nums, k):\n",
    "    if k > -1 and k <= len(nums):\n",
    "        i = abs(len(nums) - k)\n",
    "        nums.extend(nums[0:i]) #adds the first three numbers to the back\n",
    "        del nums[0:i] #deletes the same numbers from the front\n",
    "        return nums \n",
    "    elif k > len(nums):\n",
    "        for i in range(0,k):\n",
    "            j = nums[-1]\n",
    "            nums.insert(0,j) #adds 1 to the front of the list\n",
    "            del nums[-1] #removes the last element from the back of the list\n",
    "        return nums\n",
    "    else:\n",
    "        return \"Error: K is too large or non-positive\"\n",
    "    \n",
    "    #Runtime: 48 ms, faster than 99.86% of Python3 online submissions for Rotate Array.\n",
    "    #Memory Usage: 15.3 MB, less than 67.33% of Python3 online submissions for Rotate Array."
   ]
  },
  {
   "cell_type": "code",
   "execution_count": 39,
   "metadata": {},
   "outputs": [],
   "source": [
    "#test\n",
    "nums = [1,2,3,4,5,6,7]\n",
    "k = 3"
   ]
  },
  {
   "cell_type": "code",
   "execution_count": 40,
   "metadata": {},
   "outputs": [
    {
     "data": {
      "text/plain": [
       "[5, 6, 7, 1, 2, 3, 4]"
      ]
     },
     "execution_count": 40,
     "metadata": {},
     "output_type": "execute_result"
    }
   ],
   "source": [
    "rotate(nums, k)"
   ]
  },
  {
   "cell_type": "markdown",
   "metadata": {},
   "source": [
    "Input: nums = [1,2,3,4,5,6,7], k = 3\n",
    "\n",
    "Output: [5,6,7,1,2,3,4]\n",
    "\n",
    "Explanation:\n",
    "\n",
    "rotate 1 steps to the right: [7,1,2,3,4,5,6]\n",
    "\n",
    "rotate 2 steps to the right: [6,7,1,2,3,4,5]\n",
    "\n",
    "rotate 3 steps to the right: [5,6,7,1,2,3,4]"
   ]
  },
  {
   "cell_type": "markdown",
   "metadata": {},
   "source": [
    "# 350. Intersection of Two Arrays II"
   ]
  },
  {
   "cell_type": "markdown",
   "metadata": {},
   "source": [
    "Given two arrays, write a function to compute their intersection."
   ]
  },
  {
   "cell_type": "code",
   "execution_count": 15,
   "metadata": {},
   "outputs": [],
   "source": [
    "def intersect(nums1, nums2):\n",
    "    result = [] #creating result array\n",
    "    for num in nums1:\n",
    "        if num in nums2:\n",
    "            result.append(num)\n",
    "            nums2.remove(num)\n",
    "    return result\n",
    "    #Runtime: 132 ms, faster than 5.12% of Python3 online submissions for Intersection of Two Arrays II.\n",
    "    #Memory Usage: 14.2 MB, less than 7.71% of Python3 online submissions for Intersection of Two Arrays II."
   ]
  },
  {
   "cell_type": "code",
   "execution_count": 16,
   "metadata": {},
   "outputs": [],
   "source": [
    "#test\n",
    "nums1 = [1,2,2,1]\n",
    "nums2 = [2,2]"
   ]
  },
  {
   "cell_type": "code",
   "execution_count": 17,
   "metadata": {},
   "outputs": [
    {
     "data": {
      "text/plain": [
       "[2, 2]"
      ]
     },
     "execution_count": 17,
     "metadata": {},
     "output_type": "execute_result"
    }
   ],
   "source": [
    "intersect(nums1, nums2)"
   ]
  },
  {
   "cell_type": "markdown",
   "metadata": {},
   "source": [
    "Input: nums1 = [1,2,2,1], nums2 = [2,2]\n",
    "\n",
    "Output: [2,2]"
   ]
  },
  {
   "cell_type": "markdown",
   "metadata": {},
   "source": [
    "# 66. Plus One"
   ]
  },
  {
   "cell_type": "markdown",
   "metadata": {},
   "source": [
    "Given a non-empty array of digits representing a non-negative integer, increment one to the integer.\n",
    "\n",
    "The digits are stored such that the most significant digit is at the head of the list, and each element in the array contains a single digit.\n",
    "\n",
    "You may assume the integer does not contain any leading zero, except the number 0 itself."
   ]
  },
  {
   "cell_type": "code",
   "execution_count": 21,
   "metadata": {},
   "outputs": [],
   "source": [
    "def plusOne(digits):\n",
    "    convert = [str(i) for i in digits]\n",
    "    squish = \"\".join(convert)\n",
    "    num = int(squish)\n",
    "    new = num + 1\n",
    "    a_list = [int(x) for x in str(new)]\n",
    "    return a_list\n",
    "\n",
    "#Runtime: 56 ms, faster than 10.53% of Python3 online submissions for Plus One.\n",
    "#Memory Usage: 13.9 MB, less than 39.28% of Python3 online submissions for Plus One."
   ]
  },
  {
   "cell_type": "code",
   "execution_count": 22,
   "metadata": {},
   "outputs": [
    {
     "data": {
      "text/plain": [
       "[1, 2, 4]"
      ]
     },
     "execution_count": 22,
     "metadata": {},
     "output_type": "execute_result"
    }
   ],
   "source": [
    "#test\n",
    "digits = [1,2,3]\n",
    "plusOne(digits)"
   ]
  },
  {
   "cell_type": "markdown",
   "metadata": {},
   "source": [
    "Input: digits = [1,2,3]\n",
    "    \n",
    "Output: [1,2,4]\n",
    "    \n",
    "Explanation: The array represents the integer 123."
   ]
  },
  {
   "cell_type": "markdown",
   "metadata": {},
   "source": [
    "# 283. Move Zeros"
   ]
  },
  {
   "cell_type": "markdown",
   "metadata": {},
   "source": [
    "\n",
    "Given an array nums, write a function to move all 0's to the end of it while maintaining the relative order of the non-zero elements.\n",
    "\n",
    "Note:\n",
    "\n",
    "You must do this in-place without making a copy of the array.\n",
    "Minimize the total number of operations."
   ]
  },
  {
   "cell_type": "code",
   "execution_count": 36,
   "metadata": {},
   "outputs": [],
   "source": [
    "def moveZeroes(nums):\n",
    "    for num in nums:\n",
    "        if num == 0:\n",
    "            nums.remove(num)\n",
    "            nums.append(num)\n",
    "            \n",
    "#Runtime: 228 ms, faster than 14.21% of Python3 online submissions for Move Zeroes.\n",
    "#Memory Usage: 14.9 MB, less than 95.23% of Python3 online submissions for Move Zeroes."
   ]
  },
  {
   "cell_type": "code",
   "execution_count": 37,
   "metadata": {},
   "outputs": [
    {
     "name": "stdout",
     "output_type": "stream",
     "text": [
      "[1, 3, 12, 0, 0]\n"
     ]
    }
   ],
   "source": [
    "#test\n",
    "test = [0,1,0,3,12]\n",
    "moveZeroes(test)\n",
    "print(test)"
   ]
  },
  {
   "cell_type": "markdown",
   "metadata": {},
   "source": [
    "Example:\n",
    "\n",
    "Input: [0,1,0,3,12]\n",
    "\n",
    "Output: [1,3,12,0,0]"
   ]
  },
  {
   "cell_type": "markdown",
   "metadata": {},
   "source": [
    "# 344. Reverse String"
   ]
  },
  {
   "cell_type": "markdown",
   "metadata": {},
   "source": [
    "Write a function that reverses a string. The input string is given as an array of characters char[].\n",
    "\n",
    "Do not allocate extra space for another array, you must do this by modifying the input array in-place with O(1) extra memory.\n",
    "\n",
    "You may assume all the characters consist of printable ascii characters."
   ]
  },
  {
   "cell_type": "code",
   "execution_count": 53,
   "metadata": {},
   "outputs": [],
   "source": [
    "def reverseString(s):\n",
    "    s.reverse()\n",
    "    #Runtime: 308 ms, faster than 18.66% of Python3 online submissions for Reverse String.\n",
    "    #Memory Usage: 18.1 MB, less than 89.58% of Python3 online submissions for Reverse String."
   ]
  },
  {
   "cell_type": "code",
   "execution_count": 54,
   "metadata": {},
   "outputs": [],
   "source": [
    "#test\n",
    "test = [\"h\",\"e\",\"l\",\"l\",\"o\"]"
   ]
  },
  {
   "cell_type": "code",
   "execution_count": 55,
   "metadata": {},
   "outputs": [],
   "source": [
    "reverseString(test)"
   ]
  },
  {
   "cell_type": "code",
   "execution_count": 56,
   "metadata": {},
   "outputs": [
    {
     "name": "stdout",
     "output_type": "stream",
     "text": [
      "['o', 'l', 'l', 'e', 'h']\n"
     ]
    }
   ],
   "source": [
    "print(test)"
   ]
  },
  {
   "cell_type": "markdown",
   "metadata": {},
   "source": [
    "Example:\n",
    "    \n",
    "Input: [\"h\",\"e\",\"l\",\"l\",\"o\"]\n",
    "    \n",
    "Output: [\"o\",\"l\",\"l\",\"e\",\"h\"]"
   ]
  },
  {
   "cell_type": "markdown",
   "metadata": {},
   "source": [
    "# 7. Reverse Integer"
   ]
  },
  {
   "cell_type": "markdown",
   "metadata": {},
   "source": [
    "Given a 32-bit signed integer, reverse digits of an integer.\n",
    "\n",
    "Note:\n",
    "Assume we are dealing with an environment which could only store integers within the 32-bit signed integer range: [−231,  231 − 1]. For the purpose of this problem, assume that your function returns 0 when the reversed integer overflows."
   ]
  },
  {
   "cell_type": "code",
   "execution_count": 1,
   "metadata": {},
   "outputs": [],
   "source": [
    "def reverse(x):\n",
    "    if str(x)[0] == '-':\n",
    "        x = list(str(x))[1:]\n",
    "        x.reverse()\n",
    "        a = \"\".join(x)\n",
    "        test = int(a) * -1\n",
    "        if test > -2**31:\n",
    "            return test\n",
    "        else:\n",
    "            return 0\n",
    "    else:\n",
    "        x = list(str(x))\n",
    "        x.reverse()\n",
    "        a = \"\".join(x)\n",
    "        test = int(a)\n",
    "        if test < ((2**31)-1):\n",
    "            return test\n",
    "        else:\n",
    "            return 0\n",
    "        \n",
    "        #Runtime: 56 ms, faster than 10.85% of Python3 online submissions for Reverse Integer.\n",
    "        #Memory Usage: 13.8 MB, less than 67.51% of Python3 online submissions for Reverse Integer."
   ]
  },
  {
   "cell_type": "code",
   "execution_count": 2,
   "metadata": {},
   "outputs": [],
   "source": [
    "x = -123"
   ]
  },
  {
   "cell_type": "code",
   "execution_count": 3,
   "metadata": {},
   "outputs": [
    {
     "data": {
      "text/plain": [
       "-321"
      ]
     },
     "execution_count": 3,
     "metadata": {},
     "output_type": "execute_result"
    }
   ],
   "source": [
    "reverse(x)"
   ]
  },
  {
   "cell_type": "markdown",
   "metadata": {},
   "source": [
    "Example 2:\n",
    "\n",
    "Input: -123\n",
    "\n",
    "Output: -321"
   ]
  },
  {
   "cell_type": "markdown",
   "metadata": {},
   "source": [
    "# 387. First Unique Character in a String"
   ]
  },
  {
   "cell_type": "markdown",
   "metadata": {},
   "source": [
    "Given a string, find the first non-repeating character in it and return its index. If it doesn't exist, return -1."
   ]
  },
  {
   "cell_type": "code",
   "execution_count": 7,
   "metadata": {},
   "outputs": [],
   "source": [
    "from collections import defaultdict\n",
    "def firstUniqChar(nums):\n",
    "    if len(nums) > 0: #if list is not empty\n",
    "        test = list(nums)\n",
    "        hash_table = defaultdict(int) #default dict an empty dictionary of integers (ints) that fill all empty keys, so you don't get a                                            #key error\n",
    "        for i in nums:\n",
    "            hash_table[i] += 1 #counts how many times each element in the list appears\n",
    "\n",
    "        for let in hash_table:\n",
    "            if hash_table[let] == 1: #if value is equal to 1 aka if value has a frequency of 1 in the defaultdict\n",
    "                #NOTE: this will catch the first unique character bc the hash-table preserves the original list order\n",
    "                return test.index(let) #print the index of test that corresponds to that value (letter)\n",
    "        return -1\n",
    "    else:\n",
    "        return -1\n",
    "    #Runtime: 108 ms, faster than 72.69% of Python3 online submissions for First Unique Character in a String.\n",
    "    #Memory Usage: 14 MB, less than 26.49% of Python3 online submissions for First Unique Character in a String.\n"
   ]
  },
  {
   "cell_type": "code",
   "execution_count": 8,
   "metadata": {},
   "outputs": [],
   "source": [
    "test = \"loveleetcode\""
   ]
  },
  {
   "cell_type": "code",
   "execution_count": 9,
   "metadata": {},
   "outputs": [
    {
     "name": "stdout",
     "output_type": "stream",
     "text": [
      "2\n"
     ]
    }
   ],
   "source": [
    "print(firstUniqChar(test))"
   ]
  },
  {
   "cell_type": "markdown",
   "metadata": {},
   "source": [
    "Examples:\n",
    "\n",
    "s = \"leetcode\"\n",
    "return 0.\n",
    "\n",
    "s = \"loveleetcode\"\n",
    "return 2."
   ]
  },
  {
   "cell_type": "markdown",
   "metadata": {},
   "source": [
    "# 13. Roman to Integer"
   ]
  },
  {
   "cell_type": "markdown",
   "metadata": {},
   "source": [
    "Given a roman numeral, convert it to an integer. Input is guaranteed to be within the range from 1 to 3999.\n",
    "\n",
    "Example 1:\n",
    "\n",
    "Input: \"III\"\n",
    "\n",
    "Output: 3"
   ]
  },
  {
   "cell_type": "code",
   "execution_count": 8,
   "metadata": {},
   "outputs": [],
   "source": [
    "def romanToInt(s):\n",
    "    num = 0\n",
    "    for i in range(len(s)):\n",
    "        if s[i] == 'I' and i < len(s)-1:\n",
    "            if s[i+1] == 'V' or s[i+1] == 'X':\n",
    "                num -= 1\n",
    "            else:\n",
    "                num += 1\n",
    "        elif s[i] == 'I' and i == len(s)-1:\n",
    "            num += 1\n",
    "        elif s[i] == 'V':\n",
    "            num += 5\n",
    "        elif s[i] == 'X' and i < len(s)-1: \n",
    "            if s[i+1] == 'L' or s[i+1] == 'C':\n",
    "                num -= 10\n",
    "            else:\n",
    "                num += 10\n",
    "        elif s[i] == 'X' and i == len(s)-1:\n",
    "            num += 10\n",
    "        elif s[i] == 'L':\n",
    "            num += 50\n",
    "        elif s[i] == 'C' and i < len(s)-1: \n",
    "            if s[i+1] == 'D' or s[i+1] == 'M':\n",
    "                num -= 100\n",
    "            else:\n",
    "                num += 100\n",
    "        elif s[i] == 'C' and i == len(s)-1:\n",
    "            num += 100\n",
    "        elif s[i] == 'D':\n",
    "            num += 500\n",
    "        elif s[i] == 'M':\n",
    "            num += 1000\n",
    "    return num\n",
    "#Runtime: 64 ms, faster than 27.29% of Python3 online submissions for Roman to Integer.\n",
    "#Memory Usage: 14 MB, less than 10.84% of Python3 online submissions for Roman to Integer.\n"
   ]
  },
  {
   "cell_type": "code",
   "execution_count": 9,
   "metadata": {},
   "outputs": [],
   "source": [
    "test = \"MCMXCIV\""
   ]
  },
  {
   "cell_type": "code",
   "execution_count": 10,
   "metadata": {},
   "outputs": [
    {
     "name": "stdout",
     "output_type": "stream",
     "text": [
      "1994\n"
     ]
    }
   ],
   "source": [
    "print(romanToInt(test))"
   ]
  },
  {
   "cell_type": "markdown",
   "metadata": {},
   "source": [
    "# 242. Valid Anagram\n",
    "\n",
    "Given two strings s and t , write a function to determine if t is an anagram of s.\n",
    "\n"
   ]
  },
  {
   "cell_type": "code",
   "execution_count": 6,
   "metadata": {},
   "outputs": [],
   "source": [
    "def isAnagram(s,t):\n",
    "    if len(s) != len(t):\n",
    "        return False #if the strings are not equal length, return False\n",
    "    s = sorted(s) #sort the strings\n",
    "    t = sorted(t)\n",
    "    if s != t:\n",
    "        return False #if the sorted strings are not the same, return False\n",
    "    return True\n",
    "#Runtime: 48 ms, faster than 73.19% of Python3 online submissions for Valid Anagram\n",
    "#Memory Usage: 14.5 MB, less than 27.60% of Python3 online submissions for Valid Anagram."
   ]
  },
  {
   "cell_type": "code",
   "execution_count": 7,
   "metadata": {},
   "outputs": [],
   "source": [
    "s = \"anagram\"\n",
    "t = \"nagaram\""
   ]
  },
  {
   "cell_type": "code",
   "execution_count": 8,
   "metadata": {},
   "outputs": [
    {
     "name": "stdout",
     "output_type": "stream",
     "text": [
      "True\n"
     ]
    }
   ],
   "source": [
    "print(isAnagram(s,t))"
   ]
  },
  {
   "cell_type": "code",
   "execution_count": 9,
   "metadata": {},
   "outputs": [],
   "source": [
    "s = \"rat\"\n",
    "t = \"car\""
   ]
  },
  {
   "cell_type": "code",
   "execution_count": 10,
   "metadata": {},
   "outputs": [
    {
     "name": "stdout",
     "output_type": "stream",
     "text": [
      "False\n"
     ]
    }
   ],
   "source": [
    "print(isAnagram(s,t))"
   ]
  },
  {
   "cell_type": "markdown",
   "metadata": {},
   "source": [
    "# 125. Valid Palindrome\n",
    "\n",
    "Given a string, determine if it is a palindrome, considering only alphanumeric characters and ignoring cases.\n",
    "\n",
    "Note: For the purpose of this problem, we define empty string as valid palindrome."
   ]
  },
  {
   "cell_type": "code",
   "execution_count": 90,
   "metadata": {},
   "outputs": [],
   "source": [
    "import re #import regex module\n",
    "def isPalindrome(s):\n",
    "    string = s.replace(\" \",\"\") #removing the spaces\n",
    "    a = re.sub(\"[\\.\\?\\!\\,\\;\\:\\-_\\$[\\]\\'\\\"\\\"{\\}‘\\(\\)\\@\\#`]\",\"\",string) #using a regex to remove punctuation   \n",
    "    x = a.lower() #making all letters lowercase\n",
    "    y = x[::-1] #flipping the string\n",
    "    if x == y: #comparing the string and the backwards string\n",
    "        return True\n",
    "    else:\n",
    "        return False\n",
    "    \n",
    "#Runtime: 64 ms, faster than 25.55% of Python3 online submissions for Valid Palindrome.\n",
    "#Memory Usage: 15.2 MB, less than 24.85% of Python3 online submissions for Valid Palindrome.\n"
   ]
  },
  {
   "cell_type": "code",
   "execution_count": 91,
   "metadata": {},
   "outputs": [
    {
     "name": "stdout",
     "output_type": "stream",
     "text": [
      "True\n"
     ]
    }
   ],
   "source": [
    "test = \"A man, a plan, a canal: Panama\"\n",
    "print(isPalindrome(test))"
   ]
  },
  {
   "cell_type": "code",
   "execution_count": 92,
   "metadata": {},
   "outputs": [
    {
     "name": "stdout",
     "output_type": "stream",
     "text": [
      "False\n"
     ]
    }
   ],
   "source": [
    "test = \"race a car\"\n",
    "print(isPalindrome(test))"
   ]
  },
  {
   "cell_type": "markdown",
   "metadata": {},
   "source": [
    "# 8. String to Integer (brute force solution, can definitely be optimized)"
   ]
  },
  {
   "cell_type": "markdown",
   "metadata": {},
   "source": [
    "Implement atoi which converts a string to an integer.\n",
    "\n",
    "The function first discards as many whitespace characters as necessary until the first non-whitespace character is found. Then, starting from this character, takes an optional initial plus or minus sign followed by as many numerical digits as possible, and interprets them as a numerical value.\n",
    "\n",
    "The string can contain additional characters after those that form the integral number, which are ignored and have no effect on the behavior of this function.\n",
    "\n",
    "If the first sequence of non-whitespace characters in str is not a valid integral number, or if no such sequence exists because either str is empty or it contains only whitespace characters, no conversion is performed.\n",
    "\n",
    "If no valid conversion could be performed, a zero value is returned.\n",
    "\n",
    "Note:\n",
    "\n",
    "Only the space character ' ' is considered as whitespace character.\n",
    "Assume we are dealing with an environment which could only store integers within the 32-bit signed integer range: [−231,  231 − 1]. If the numerical value is out of the range of representable values, INT_MAX (231 − 1) or INT_MIN (−231) is returned.\n"
   ]
  },
  {
   "cell_type": "code",
   "execution_count": 2,
   "metadata": {},
   "outputs": [],
   "source": [
    "def myAtoi(x):\n",
    "    strip = x.lstrip() #strips leading white space\n",
    "    yes = list(range(0,10))\n",
    "    yes.extend([\"-\",\"+\"])\n",
    "    test = [str(i) for i in yes] #converting list of ints to list of strings; creating test list of digits and signs to                                            #compare strip[0] against\n",
    "    if len(strip) > 0:\n",
    "        if len(strip) == 1:\n",
    "            if strip in [\"+\",\"-\"]:\n",
    "                return 0\n",
    "            else:\n",
    "                if strip[0] not in test:\n",
    "                    return 0 #if first character is not valid, return 0\n",
    "                else:\n",
    "                    a = []\n",
    "                    for num in strip:\n",
    "                        if num in test:\n",
    "                            a += num\n",
    "                        else:\n",
    "                            break\n",
    "                    if a[0] in [\"+\",\"-\"]:\n",
    "                        if a[1] in list(str(range(0,10))): #if signed integer\n",
    "                            g = \"\".join(a) #joins list to make one number\n",
    "                            if float(g) < -2**31:\n",
    "                                return -2**31\n",
    "                            elif float(g) > ((2**31)-1):\n",
    "                                return ((2**31)-1)\n",
    "                            else:\n",
    "                                return int(float(g) // 1)#converts to an integer\n",
    "                    elif a[0] in list(str(range(0,10))):\n",
    "                        g = \"\".join(a) #joins list to make one number\n",
    "                        if float(g) < -2**31:\n",
    "                            return -2**31\n",
    "                        elif float(g) > ((2**31)-1):\n",
    "                            return ((2**31)-1)\n",
    "                        else:\n",
    "                            return int(float(g) // 1)#converts to an integer\n",
    "                    else:\n",
    "                        return 0 \n",
    "        elif len(strip) > 1:\n",
    "\n",
    "            if strip[0] not in test:\n",
    "                    return 0 #if first character is not valid, return 0\n",
    "            else:\n",
    "                a = []\n",
    "                for i,num in enumerate(strip):\n",
    "                    if num in test:\n",
    "                        if num in [\"-\",\"+\"]:\n",
    "                            if num in a or len(a) > 1: #if num is a sign and already in a\n",
    "                                break #return 0\n",
    "\n",
    "\n",
    "                            a += num\n",
    "\n",
    "                        else:\n",
    "                            a += num\n",
    "                    else:\n",
    "                        break\n",
    "                if len(a) == 1:\n",
    "                    if a[0] in [\"+\",\"-\"]:\n",
    "\n",
    "                        return 0\n",
    "                    else:\n",
    "                        return int(a[0]) #converts to an integer\n",
    "\n",
    "                elif a[1] in [str(i) for i in (list(range(0,10)))]: #if signed integer\n",
    "                    g = \"\".join(a) #joins list to make one number\n",
    "                    if float(g) < -2**31:\n",
    "                        return -2**31\n",
    "                    elif float(g) > ((2**31)-1):\n",
    "                        return ((2**31)-1)\n",
    "                    else:\n",
    "                        return int(float(g) // 1)#converts to an integer\n",
    "                else:\n",
    "                    return 0\n",
    "\n",
    "    else:\n",
    "        return 0 \n",
    "    #Runtime: 56 ms, faster than 11.99% of Python3 online submissions for String to Integer (atoi).\n",
    "    #Memory Usage: 14.2 MB, less than 5.16% of Python3 online submissions for String to Integer (atoi).\n"
   ]
  },
  {
   "cell_type": "code",
   "execution_count": 4,
   "metadata": {},
   "outputs": [
    {
     "name": "stdout",
     "output_type": "stream",
     "text": [
      "4193\n"
     ]
    }
   ],
   "source": [
    "x = \"4193 with words\"\n",
    "print(myAtoi(x))"
   ]
  },
  {
   "cell_type": "markdown",
   "metadata": {},
   "source": [
    "# Practice writing functions that calculate basic summary measures (not leetcode)"
   ]
  },
  {
   "cell_type": "markdown",
   "metadata": {},
   "source": [
    "## Function calculate the mean of an array (list) of numbers"
   ]
  },
  {
   "cell_type": "code",
   "execution_count": 43,
   "metadata": {},
   "outputs": [],
   "source": [
    "def mean(nums):\n",
    "    result = sum(nums)/len(nums)\n",
    "    return result"
   ]
  },
  {
   "cell_type": "code",
   "execution_count": 44,
   "metadata": {},
   "outputs": [
    {
     "name": "stdout",
     "output_type": "stream",
     "text": [
      "2.6666666666666665\n"
     ]
    }
   ],
   "source": [
    "data1 = [1,2,5]\n",
    "print (mean(data1))"
   ]
  },
  {
   "cell_type": "code",
   "execution_count": 45,
   "metadata": {},
   "outputs": [
    {
     "data": {
      "text/plain": [
       "2.6666666666666665"
      ]
     },
     "execution_count": 45,
     "metadata": {},
     "output_type": "execute_result"
    }
   ],
   "source": [
    "#checking work:\n",
    "import statistics \n",
    "statistics.mean(data1)"
   ]
  },
  {
   "cell_type": "markdown",
   "metadata": {},
   "source": [
    "## Function to calculate the median of an array (list) of numbers"
   ]
  },
  {
   "cell_type": "code",
   "execution_count": 46,
   "metadata": {},
   "outputs": [],
   "source": [
    "def median(nums):\n",
    "    nums.sort() #sorts list in place from smallest to largest\n",
    "    if len(nums) == 1: #edge case\n",
    "        return nums[0]\n",
    "    elif len(nums) % 2 == 1: #if length of array is odd\n",
    "        return nums[int((len(nums) - 1) / 2)] #return the middle number\n",
    "    else: #if length of array is even\n",
    "        i = nums[int((len(nums) - 2) / 2)] #first middle number\n",
    "        j = nums[int((len(nums) - 2) / 2) + 1] #second middle number\n",
    "        return sum([i,j])/2 #return average of two middle numbers"
   ]
  },
  {
   "cell_type": "code",
   "execution_count": 47,
   "metadata": {},
   "outputs": [
    {
     "data": {
      "text/plain": [
       "7.5"
      ]
     },
     "execution_count": 47,
     "metadata": {},
     "output_type": "execute_result"
    }
   ],
   "source": [
    "data2 = [2,7,8,1500]\n",
    "median(data2)"
   ]
  },
  {
   "cell_type": "code",
   "execution_count": 48,
   "metadata": {},
   "outputs": [
    {
     "data": {
      "text/plain": [
       "7.5"
      ]
     },
     "execution_count": 48,
     "metadata": {},
     "output_type": "execute_result"
    }
   ],
   "source": [
    "#checking work:\n",
    "statistics.median(data2)"
   ]
  },
  {
   "cell_type": "markdown",
   "metadata": {},
   "source": [
    "# Function to calculate the mode of an array (list) of numbers"
   ]
  },
  {
   "cell_type": "code",
   "execution_count": 49,
   "metadata": {},
   "outputs": [],
   "source": [
    "#using a hash_table:\n",
    "from collections import defaultdict\n",
    "def mode(nums):\n",
    "    hash_table = defaultdict(int) #initializing default dictionary of integers\n",
    "    for i in nums:\n",
    "        hash_table[i] += 1 #counts how many times each element occurs in the list\n",
    "    for key, value in hash_table.items():  #looping over key/value pairs in hash_table\n",
    "             if max(hash_table.values()) == value: #identfying number with highest frequency\n",
    "                 return key #returning that number\n",
    "                #will only work if there is a single mode\n"
   ]
  },
  {
   "cell_type": "code",
   "execution_count": 50,
   "metadata": {},
   "outputs": [
    {
     "data": {
      "text/plain": [
       "8"
      ]
     },
     "execution_count": 50,
     "metadata": {},
     "output_type": "execute_result"
    }
   ],
   "source": [
    "data4 = [1,8,8,1,8]\n",
    "mode(data4)"
   ]
  },
  {
   "cell_type": "markdown",
   "metadata": {},
   "source": [
    "# Function to calculate the range of an array (list) of numbers"
   ]
  },
  {
   "cell_type": "code",
   "execution_count": 51,
   "metadata": {},
   "outputs": [],
   "source": [
    "def rnge(nums):\n",
    "    nums.sort() #sort in place\n",
    "    return (nums[-1] - nums[0])\n",
    "    "
   ]
  },
  {
   "cell_type": "code",
   "execution_count": 52,
   "metadata": {},
   "outputs": [
    {
     "data": {
      "text/plain": [
       "7"
      ]
     },
     "execution_count": 52,
     "metadata": {},
     "output_type": "execute_result"
    }
   ],
   "source": [
    "data5 = [1,8,8,1,8]\n",
    "rnge(data5)"
   ]
  },
  {
   "cell_type": "markdown",
   "metadata": {},
   "source": [
    "# Function to calculate the standard deviation of an array (list) of numbers"
   ]
  },
  {
   "cell_type": "code",
   "execution_count": 53,
   "metadata": {},
   "outputs": [],
   "source": [
    "def std_dev(nums):\n",
    "    #Find the mean\n",
    "    mean = sum(nums)/len(nums)\n",
    "    #Subtract mean from each obs\n",
    "    dev = [(num - mean) for num in nums]\n",
    "    #Square the deviations\n",
    "    square = [i **2 for i in dev]\n",
    "    #Sum over all squared deviations\n",
    "    sum_s = sum(square)\n",
    "    #Divide by the length of the array/list\n",
    "    var = sum_s/(len(nums)-1)\n",
    "    #Take the square root\n",
    "    return var **.5\n",
    "    "
   ]
  },
  {
   "cell_type": "code",
   "execution_count": 54,
   "metadata": {},
   "outputs": [
    {
     "data": {
      "text/plain": [
       "14433.90106658626"
      ]
     },
     "execution_count": 54,
     "metadata": {},
     "output_type": "execute_result"
    }
   ],
   "source": [
    "data6 = list(range(50_000))\n",
    "#std_dev(data6)\n",
    "std_dev(data6)"
   ]
  },
  {
   "cell_type": "code",
   "execution_count": 55,
   "metadata": {},
   "outputs": [
    {
     "data": {
      "text/plain": [
       "14433.90106658626"
      ]
     },
     "execution_count": 55,
     "metadata": {},
     "output_type": "execute_result"
    }
   ],
   "source": [
    "##testing: \n",
    "statistics.stdev(data6)"
   ]
  },
  {
   "cell_type": "markdown",
   "metadata": {},
   "source": [
    "# Function to calculate a 95% confidence interval"
   ]
  },
  {
   "cell_type": "code",
   "execution_count": 56,
   "metadata": {},
   "outputs": [],
   "source": [
    "### run the std_dev function first!!!\n",
    "def confint(nums):\n",
    "    mean = sum(nums)/len(nums)\n",
    "    #Sq = len(X)**.5\n",
    "    root = len(nums) **.5\n",
    "    #M = Std_dev / sq\n",
    "    M = std_dev(nums) / root\n",
    "    #1.96 * M\n",
    "    zcrit = 1.96 #this can be changed\n",
    "    bound = zcrit * M\n",
    "    #Mean + 1.96 * M = upper bound\n",
    "    ul, ll = mean + bound, mean - bound\n",
    "    #Mean - 1.96 * M = lower bound\n",
    "    interval = [ll,ul]\n",
    "    return interval\n"
   ]
  },
  {
   "cell_type": "code",
   "execution_count": 57,
   "metadata": {},
   "outputs": [
    {
     "data": {
      "text/plain": [
       "[24872.981278855656, 25126.018721144344]"
      ]
     },
     "execution_count": 57,
     "metadata": {},
     "output_type": "execute_result"
    }
   ],
   "source": [
    "confint(data6)"
   ]
  },
  {
   "cell_type": "markdown",
   "metadata": {},
   "source": [
    "# Coding a Linear Regression from Scratch"
   ]
  },
  {
   "cell_type": "code",
   "execution_count": 58,
   "metadata": {},
   "outputs": [],
   "source": [
    "# Step 1. Calculate Mean and Variance for and Y\n",
    "x = [1,2,4,3,5]\n",
    "y = [1,3,3,2,5]\n",
    "\n",
    "def mean(nums):\n",
    "    result = sum(nums)/len(nums)\n",
    "    return result\n",
    "\n",
    "def variance(nums):\n",
    "    #Find the mean\n",
    "    mean = sum(nums)/len(nums)\n",
    "    #Subtract mean from each obs\n",
    "    dev = [(num - mean) for num in nums]\n",
    "    #Square the deviations\n",
    "    square = [i **2 for i in dev]\n",
    "    #Sum over all squared deviations\n",
    "    sum_s = sum(square)\n",
    "    #Divide by the length of the array/list\n",
    "    var = sum_s/(len(nums)-1)\n",
    "    return var\n",
    "\n",
    "#calculations:\n",
    "mean_x, mean_y = mean(x), mean(y)\n",
    "var_x, var_y = variance(x), variance(y)"
   ]
  },
  {
   "cell_type": "code",
   "execution_count": 59,
   "metadata": {},
   "outputs": [
    {
     "data": {
      "text/plain": [
       "(3.0, 2.8)"
      ]
     },
     "execution_count": 59,
     "metadata": {},
     "output_type": "execute_result"
    }
   ],
   "source": [
    "mean_x, mean_y #means"
   ]
  },
  {
   "cell_type": "code",
   "execution_count": 60,
   "metadata": {},
   "outputs": [
    {
     "data": {
      "text/plain": [
       "(2.5, 2.2)"
      ]
     },
     "execution_count": 60,
     "metadata": {},
     "output_type": "execute_result"
    }
   ],
   "source": [
    "var_x, var_y #variances"
   ]
  },
  {
   "cell_type": "code",
   "execution_count": 61,
   "metadata": {},
   "outputs": [],
   "source": [
    "# Step 2. Calculate Covariance.\n",
    "# Calculate covariance between x and y\n",
    "def covariance(x, mean_x, y, mean_y):\n",
    "    covar = 0.0\n",
    "    for i in range(len(x)):\n",
    "        covar += (x[i] - mean_x) * (y[i] - mean_y)\n",
    "    covar = covar / (len(x) - 1)\n",
    "    return covar"
   ]
  },
  {
   "cell_type": "code",
   "execution_count": 62,
   "metadata": {},
   "outputs": [
    {
     "data": {
      "text/plain": [
       "2.0"
      ]
     },
     "execution_count": 62,
     "metadata": {},
     "output_type": "execute_result"
    }
   ],
   "source": [
    "covariance(x,mean_x,y,mean_y)"
   ]
  },
  {
   "cell_type": "code",
   "execution_count": 63,
   "metadata": {},
   "outputs": [],
   "source": [
    "# Step 3. Estimate Coefficients.\n",
    "# define mean, standard deviation, and covariance functions first\n",
    "from scipy.stats import pearsonr\n",
    "\n",
    "def coefficients(x,y):\n",
    "    mean_x, mean_y = mean(x), mean(y)\n",
    "    std_x, std_y = std_dev(x), std_dev(y)\n",
    "    r = covariance(x,mean_x,y,mean_y) / (std_x * std_y) #calculating the correlation\n",
    "    b1 = r * (std_y/std_x) \n",
    "    b0 = mean_y - (b1 * mean_y)\n",
    "    return [b0,b1]\n",
    "    \n",
    "# Step 4. Make Predictions."
   ]
  },
  {
   "cell_type": "code",
   "execution_count": 67,
   "metadata": {},
   "outputs": [],
   "source": [
    "regression = coefficients(x,y)"
   ]
  },
  {
   "cell_type": "code",
   "execution_count": 76,
   "metadata": {},
   "outputs": [],
   "source": [
    "observed_x = 3 #observed value of x that we'll base our prediction on"
   ]
  },
  {
   "cell_type": "code",
   "execution_count": 74,
   "metadata": {},
   "outputs": [],
   "source": [
    "yhat = regression[0] + regression[1] * observed_x #regression equation"
   ]
  },
  {
   "cell_type": "code",
   "execution_count": 75,
   "metadata": {},
   "outputs": [
    {
     "data": {
      "text/plain": [
       "3.76"
      ]
     },
     "execution_count": 75,
     "metadata": {},
     "output_type": "execute_result"
    }
   ],
   "source": [
    "yhat #predicted y"
   ]
  },
  {
   "cell_type": "markdown",
   "metadata": {},
   "source": [
    "# Generating Random Normal Data in Python"
   ]
  },
  {
   "cell_type": "code",
   "execution_count": 83,
   "metadata": {},
   "outputs": [
    {
     "name": "stdout",
     "output_type": "stream",
     "text": [
      "[[ 1.24410403  0.54637471 -0.58575776]\n",
      " [-0.1615757   1.00718368  0.56667423]\n",
      " [-1.57003708 -0.19609648  0.31020465]\n",
      " [-0.33343575 -1.01396048  1.03287051]\n",
      " [ 0.29508945  0.8428137   0.5637708 ]]\n",
      "[  2.43251342   1.96877448   2.76804638   2.80876074   4.99466259\n",
      "   5.42932958   7.4321936    6.98444107   7.62634765   9.95930918\n",
      "  10.21752673  11.65568915  12.45079757  15.10330859  15.08571602\n",
      "  15.47301416  17.20025472  16.92243396  20.04949337  20.79309373\n",
      "  20.02214013  21.14324563  22.89273569  23.73285598  27.73559649\n",
      "  24.38030784  26.38399839  28.31660265  28.28302066  31.13354553\n",
      "  30.88632148  32.51820482  33.41112962  34.19662089  34.15551079\n",
      "  35.34225797  38.1807334   39.04923637  37.22143392  39.6364137\n",
      "  40.29154242  42.25946474  43.25179418  44.21962784  44.4076626\n",
      "  46.7758117   45.96648996  47.90676419  48.3231399   51.19699331\n",
      "  51.7460308   54.11735302  53.87110039  52.02780275  56.3978947\n",
      "  56.24446656  56.47914086  58.27285591  57.37325035  59.09829087\n",
      "  64.66092895  62.54789343  64.25666553  64.71555874  65.49442538\n",
      "  66.43134157  65.61637821  68.43563599  67.60578998  70.59234511\n",
      "  70.26515505  72.68934176  73.2030521   75.85877992  75.38270473\n",
      "  76.68807581  75.95867794  79.23009026  79.35394966  81.16726892\n",
      "  81.42368886  81.6153133   83.97456259  83.27724389  86.15009459\n",
      "  85.78168007  85.64130585  87.11296809  90.32684719  91.66286003\n",
      "  90.14992976  90.4508963   92.93371997  93.9342966   94.97657466\n",
      "  96.83619628  96.40703624  97.94121202  97.802055   100.42640315\n",
      " 101.96869712 101.18707426 103.43502647 101.73913753 106.00854613\n",
      " 106.56175804 106.52345689 108.75646605 110.3773217  109.56745512\n",
      " 113.20329684 112.52906094 111.9647996  112.8862278  113.5792502\n",
      " 115.10607045 117.86697649 116.23697422 118.14960258 119.81795295\n",
      " 123.17481965 120.57415325 122.24376568 126.2679566  126.36217919\n",
      " 126.89297461 128.23256209 129.07487345 128.74913694 130.54682874\n",
      " 131.32182821 132.59096872 132.25541708 135.07439546 135.78387085\n",
      " 136.00657919 137.56421248 138.46722804 140.87904172 139.2039651\n",
      " 141.37553755 142.67620002 144.47938629 145.51476804 143.60386581\n",
      " 145.76686228 146.98821953 149.677874   150.54247789 151.21935722\n",
      " 150.0938402  153.28076243 150.80728605 153.1624211  155.52179606\n",
      " 153.8630148  155.29766661 158.24518477 159.64354779 160.20329523\n",
      " 160.25417614 162.42635231 164.00332447 164.83493742 165.34367018\n",
      " 164.04482082 166.66936897 168.35176217 170.04368975 169.85885192\n",
      " 171.69673878 171.18929168 172.35871254 173.68095019 175.02431475\n",
      " 176.74855882 177.05121541 178.77909793 178.60987483 180.79533969\n",
      " 180.23809964 181.46510616 184.06142739 184.98051582 185.39256488\n",
      " 187.65538434 186.62892854 188.47958832 188.21182564 189.9038134\n",
      " 191.92597614 192.97517592 194.0522647  193.55565784 195.33818057\n",
      " 198.52522289 196.4308799  197.40761953 199.46046361 200.06271126\n",
      " 201.61581631 202.28841287 202.61165864 203.56249078 204.11521949\n",
      " 206.85363657 207.50146587 205.32289469 209.58894932 209.51675378\n",
      " 211.96463314 210.93891468 212.10227353 214.26506171 214.84169219\n",
      " 215.09432958 215.67983129 219.30654526 219.2346232  220.49051471\n",
      " 220.49466093 221.0656642  223.59090839 223.97122005 225.03610115\n",
      " 225.19493483 227.71758812 228.07603457 226.70447169 229.66580522\n",
      " 231.51859682 231.49394778 234.20262934 234.3149134  233.70985938\n",
      " 238.67949798 236.49970693 238.76431174 236.49792359 241.28065723\n",
      " 242.1415086  243.11199928 242.64714619 244.587617   244.29393498\n",
      " 246.06719485 247.33009642 249.17832685 247.89347199 250.79960356\n",
      " 250.8056709  252.45549807 253.75101177 253.97858781 255.12349803\n",
      " 255.85703833 258.31482077 257.3215665  258.78487629 261.69560652\n",
      " 262.63347002 261.12236996 262.70422167 263.13397284 263.92565166\n",
      " 266.38650451 266.7745805  269.1462512  268.39981688 270.92611957\n",
      " 271.58458051 271.5876163  272.66829324 274.66958979 275.59390062\n",
      " 277.06207849 278.7273616  277.51881952 279.2372492  279.82373331\n",
      " 281.07924382 282.08527318 282.75941769 281.86887053 284.95165629\n",
      " 286.8355354  287.28856264 288.18845538 289.74762269 288.88243976\n",
      " 290.81369101 293.39516595 291.56675626 295.68541275 297.09325122\n",
      " 296.16210688 296.18367241 298.2269755  299.82633711 300.65983683\n",
      " 302.55794766 302.32782437 301.651088   304.78145289 304.4305391\n",
      " 305.67646345 306.65948019 307.42166403 309.2976643  312.03535077\n",
      " 311.1872081  313.62515314 313.07679283 314.35619167 314.97878128\n",
      " 317.3775514  316.66347467 317.89139866 319.09790639 319.99400979\n",
      " 322.48564376 322.28034812 323.17754707 322.50772019 325.97114076\n",
      " 327.37951076 325.56288394 327.02825778 328.66306579 330.12934149\n",
      " 330.72307814 331.92902348 332.81106936 334.40367953 335.46298653\n",
      " 335.17130235 337.77784977 338.22170139 339.3375057  339.40769\n",
      " 341.87057093 340.15540697 343.87733376 343.97038459 345.45025494\n",
      " 347.39278814 347.42694091 348.40418883 349.18240559 349.84695669\n",
      " 352.11195687 350.51833864 353.64802586 354.8115541  354.3978973\n",
      " 357.3754806  356.47415533 357.02804731 360.19079839 359.4039642\n",
      " 360.23353293 362.56656161 360.58815787 364.75300589 364.79815883\n",
      " 366.82013936 367.24146027 368.21698018 369.00782027 369.18061892\n",
      " 370.41812947 371.63663899 375.02721129 373.95558432 375.10219984\n",
      " 375.65475862 376.95740243 379.10869808 380.35392574 380.73836334\n",
      " 379.61199453 382.63032922 382.83739192 385.808891   386.55523981\n",
      " 386.80147455 387.62269374 387.58348208 386.91383958 389.18096321\n",
      " 392.14644196 391.1269782  393.28271967 395.61059852 395.11103626\n",
      " 395.37444464 396.42975416 396.30003762 398.41139348 400.60911469\n",
      " 401.50626476 402.34710913 405.66077948 403.03603371 404.57990354\n",
      " 406.13695661 408.3457363  408.27801121 409.85162867 410.01212659\n",
      " 412.0920141  412.29120249 413.31582141 415.55351153 415.77044043\n",
      " 417.55619755 417.92436687 418.00556442 418.54143274 420.33428749\n",
      " 422.36671159 420.5918902  424.64473436 425.09036066 425.41361364\n",
      " 425.60162198 426.148315   428.60565296 426.86402622 432.62380369\n",
      " 431.00601084 430.03141556 433.16172421 433.45252372 434.46334937\n",
      " 437.0356428  437.55955572 437.56619489 439.31825767 439.86180136\n",
      " 441.3131024  441.73243329 442.09212193 443.83670971 446.2896154\n",
      " 446.01012299 449.30743099 447.781802   449.7357436  448.22112624\n",
      " 452.10811481 450.68675241 452.578399   453.65050597 453.97599085\n",
      " 455.99084882 457.22782381 458.14633806 459.25248727 459.07226718\n",
      " 460.87442416 461.40766691 462.10701027 463.7735797  465.80753127\n",
      " 466.1831127  466.17715543 467.30563682 468.60791864 469.33459679\n",
      " 470.70027656 471.09062205 471.81649542 475.16711384 474.75244164\n",
      " 476.36819725 477.79190135 479.76307663 478.42071171 481.91717302\n",
      " 479.37900137 482.08257886 481.9098209  484.16151213 486.17227229\n",
      " 486.68480009 485.8377308  487.31028986 490.30129233 490.60711631\n",
      " 491.02959381 489.54296074 493.23752931 493.97828942 495.16316908\n",
      " 495.92340941 496.6959024  498.75579273 498.85415243 500.34955212\n",
      " 499.85801677 501.92677251 503.24878624 503.16000613 504.84886452\n",
      " 506.56802768 507.36314115 509.2747639  508.8635779  508.74240459\n",
      " 511.15043734 511.85432162 513.19410956 513.01495525 514.73114164\n",
      " 515.15354465 518.39923473 519.57065552 518.74591367 520.99842624\n",
      " 520.32570453 523.55991908 523.50070665 522.65453574 524.03982526\n",
      " 525.14690349 527.37540993 528.48219352 528.38255661 529.23432626\n",
      " 532.07619614 530.79668591 532.4611929  533.62059943 534.51449766\n",
      " 536.07186864 538.80036838 536.68717954 540.0750487  540.15175904\n",
      " 541.36925905 542.22613229 543.26732243 542.76571516 543.1961053\n",
      " 547.39752872 547.72081509 547.61514815 547.56267201 550.04916078\n",
      " 550.96091005 553.06073517 555.3601568  554.01918449 556.46181221\n",
      " 558.33542409 556.887604   558.72249641 558.96228788 559.15330604\n",
      " 561.32968285 561.12405528 562.7741446  562.65716063 565.72041379\n",
      " 567.48481966 565.30083778 567.98622016 568.83007309 567.49090803\n",
      " 568.32343358 571.96283858 573.35484719 573.00913377 576.70817882\n",
      " 574.6879464  576.36424255 578.13014472 579.34827059 580.69251612\n",
      " 582.26360707 579.49848778 583.98763104 585.46011029 587.08112553\n",
      " 586.48209195 588.11118577 587.47675899 589.07044069 590.39734362\n",
      " 591.69860856 589.21656158 592.17391402 595.29306148 595.98613383\n",
      " 596.70933012 596.33872961 596.93379639 598.45138007]\n"
     ]
    },
    {
     "data": {
      "text/plain": [
       "599"
      ]
     },
     "execution_count": 83,
     "metadata": {},
     "output_type": "execute_result"
    }
   ],
   "source": [
    "from numpy import random\n",
    "\n",
    "x = random.normal(size=(5, 3)) #3 cols, 2 rows\n",
    "y = random.normal(range(1,600)) #generating 599 datapoints\n",
    "print(x)\n",
    "print(y)\n",
    "len(y)"
   ]
  },
  {
   "cell_type": "code",
   "execution_count": 85,
   "metadata": {},
   "outputs": [
    {
     "data": {
      "image/png": "[encoded data removed]",
      "text/plain": [
       "<Figure size 432x288 with 1 Axes>"
      ]
     },
     "metadata": {
      "needs_background": "light"
     },
     "output_type": "display_data"
    }
   ],
   "source": [
    "from numpy import random\n",
    "import matplotlib.pyplot as plt\n",
    "import seaborn as sns\n",
    "\n",
    "sns.distplot(random.normal(size=1000), hist=False)\n",
    "\n",
    "plt.show();"
   ]
  },
  {
   "cell_type": "markdown",
   "metadata": {},
   "source": [
    "# Generating Random Numbers"
   ]
  },
  {
   "cell_type": "code",
   "execution_count": 87,
   "metadata": {},
   "outputs": [
    {
     "name": "stdout",
     "output_type": "stream",
     "text": [
      "14\n"
     ]
    }
   ],
   "source": [
    "import random\n",
    "print(random.randint(1,100))"
   ]
  },
  {
   "cell_type": "markdown",
   "metadata": {},
   "source": [
    "# Mean of a Discrete Uniform Distribution"
   ]
  },
  {
   "cell_type": "code",
   "execution_count": 89,
   "metadata": {},
   "outputs": [],
   "source": [
    "def mean_unif(a,b): #a = min value, b = max value\n",
    "    mean = (a + b) * .5 #(a+b) * 1/2, also written as (b+a)/2\n",
    "    return mean\n"
   ]
  },
  {
   "cell_type": "code",
   "execution_count": 91,
   "metadata": {},
   "outputs": [
    {
     "data": {
      "text/plain": [
       "2.0"
      ]
     },
     "execution_count": 91,
     "metadata": {},
     "output_type": "execute_result"
    }
   ],
   "source": [
    "mean_unif(1,3)"
   ]
  },
  {
   "cell_type": "markdown",
   "metadata": {},
   "source": [
    "# More Leetcode..."
   ]
  },
  {
   "cell_type": "markdown",
   "metadata": {},
   "source": [
    "# 28. Implement strStr()"
   ]
  },
  {
   "cell_type": "markdown",
   "metadata": {},
   "source": [
    "Implement strStr().\n",
    "\n",
    "Return the index of the first occurrence of needle in haystack, or -1 if needle is not part of haystack.\n",
    "\n"
   ]
  },
  {
   "cell_type": "markdown",
   "metadata": {},
   "source": [
    "Example 1:\n",
    "\n",
    "Input: haystack = \"hello\", needle = \"ll\"\n",
    "Output: 2\n",
    "\n",
    "Example 2:\n",
    "\n",
    "Input: haystack = \"aaaaa\", needle = \"bba\"\n",
    "Output: -1\n"
   ]
  },
  {
   "cell_type": "code",
   "execution_count": 6,
   "metadata": {},
   "outputs": [],
   "source": [
    "def strStr(haystack: str, needle: str) -> int:\n",
    "    return haystack.find(needle)\n",
    "\n",
    "    #Runtime: 28 ms, faster than 84.31% of Python3 online submissions for Implement strStr().\n",
    "    #Memory Usage: 14.2 MB, less than 11.21% of Python3 online submissions for Implement strStr().\n"
   ]
  },
  {
   "cell_type": "code",
   "execution_count": 7,
   "metadata": {},
   "outputs": [
    {
     "data": {
      "text/plain": [
       "2"
      ]
     },
     "execution_count": 7,
     "metadata": {},
     "output_type": "execute_result"
    }
   ],
   "source": [
    "haystack = \"hello\"\n",
    "needle = \"ll\"\n",
    "strStr(haystack, needle)"
   ]
  },
  {
   "cell_type": "markdown",
   "metadata": {},
   "source": [
    "# 509. Fibonacci Number (using recursion)"
   ]
  },
  {
   "cell_type": "markdown",
   "metadata": {},
   "source": [
    "The Fibonacci numbers, commonly denoted F(n) form a sequence, called the Fibonacci sequence, such that each number is the sum of the two preceding ones, starting from 0 and 1. That is,\n",
    "\n",
    "F(0) = 0,   F(1) = 1\n",
    "\n",
    "F(N) = F(N - 1) + F(N - 2), for N > 1.\n",
    "\n",
    "Given N, calculate F(N).\n"
   ]
  },
  {
   "cell_type": "code",
   "execution_count": 15,
   "metadata": {},
   "outputs": [],
   "source": [
    "def fib(N):\n",
    "    if N <= 1: #base case\n",
    "        return N\n",
    "    else:\n",
    "        return fib(N-1) + fib(N-2) #recursive calls\n",
    "    \n",
    "#Runtime: 924 ms, faster than 18.99% of Python3 online submissions for Fibonacci Number.\n",
    "#Memory Usage: 14.2 MB, less than 5.03% of Python3 online submissions for Fibonacci Number.\n",
    "#Note: This solution is SLOW! - runs on exponential time, O(2^N)!"
   ]
  },
  {
   "cell_type": "code",
   "execution_count": 16,
   "metadata": {},
   "outputs": [
    {
     "data": {
      "text/plain": [
       "55"
      ]
     },
     "execution_count": 16,
     "metadata": {},
     "output_type": "execute_result"
    }
   ],
   "source": [
    "fib(10)"
   ]
  },
  {
   "cell_type": "code",
   "execution_count": 17,
   "metadata": {},
   "outputs": [
    {
     "data": {
      "text/plain": [
       "987"
      ]
     },
     "execution_count": 17,
     "metadata": {},
     "output_type": "execute_result"
    }
   ],
   "source": [
    "fib(16)"
   ]
  },
  {
   "cell_type": "code",
   "execution_count": 18,
   "metadata": {},
   "outputs": [
    {
     "data": {
      "text/plain": [
       "832040"
      ]
     },
     "execution_count": 18,
     "metadata": {},
     "output_type": "execute_result"
    }
   ],
   "source": [
    "fib(30)"
   ]
  },
  {
   "cell_type": "markdown",
   "metadata": {},
   "source": [
    "# 1. TwoSum (Brute Force)"
   ]
  },
  {
   "cell_type": "markdown",
   "metadata": {},
   "source": [
    "Given an array of integers nums and an integer target, return indices of the two numbers such that they add up to target.\n",
    "\n",
    "You may assume that each input would have exactly one solution, and you may not use the same element twice.\n",
    "\n",
    "You can return the answer in any order."
   ]
  },
  {
   "cell_type": "code",
   "execution_count": 1,
   "metadata": {},
   "outputs": [],
   "source": [
    "##NOTE: this can be optimized for time complexity, exceeds time limit on Leetcode as is.\n",
    "def twoSum(nums, target):\n",
    "    for i,num in enumerate(nums):\n",
    "        for j in range(i+1,len(nums)):\n",
    "            if nums[j] == target - nums[i]:\n",
    "                test = [i,j]\n",
    "                return test"
   ]
  },
  {
   "cell_type": "code",
   "execution_count": 2,
   "metadata": {},
   "outputs": [
    {
     "name": "stdout",
     "output_type": "stream",
     "text": [
      "[1, 2]\n"
     ]
    }
   ],
   "source": [
    "#EXAMPLE:\n",
    "nums = [3,2,4]\n",
    "target = 6\n",
    "\n",
    "print (twoSum(nums, target))"
   ]
  },
  {
   "cell_type": "markdown",
   "metadata": {},
   "source": [
    "# 1. TwoSum (optimized for time complexity using a hash table)"
   ]
  },
  {
   "cell_type": "code",
   "execution_count": 1,
   "metadata": {},
   "outputs": [],
   "source": [
    "def twoSum(nums, target):\n",
    "    container = {}\n",
    "    for i, num in enumerate(nums):\n",
    "        if target - num in container: #if complement in container\n",
    "            return [container[target - num], i] #return a list containing the value corresponding to the key that is the                           complement value, and the current index.\n",
    "        container[num] = i #otherwise add the value of num to container as a key and the index number as it's corresponding value\n",
    "    return\n"
   ]
  },
  {
   "cell_type": "code",
   "execution_count": 5,
   "metadata": {},
   "outputs": [
    {
     "name": "stdout",
     "output_type": "stream",
     "text": [
      "[0, 1]\n"
     ]
    }
   ],
   "source": [
    "#EXAMPLE:\n",
    "nums = [3,3]\n",
    "target = 6\n",
    "\n",
    "print (twoSum(nums, target))"
   ]
  },
  {
   "cell_type": "markdown",
   "metadata": {},
   "source": [
    "# 136. Single Number\n",
    "\n",
    "Given a non-empty array of integers nums, every element appears twice except for one. Find that single one.\n",
    "\n",
    "Follow up: Could you implement a solution with a linear runtime complexity and without using extra memory?"
   ]
  },
  {
   "cell_type": "code",
   "execution_count": 4,
   "metadata": {},
   "outputs": [],
   "source": [
    "from collections import defaultdict\n",
    "def singleNumber(nums):\n",
    "    hash_table = defaultdict(int) #default dict an empty dictionary of integers (ints) that fill all empty keys, so you don't get a key error\n",
    "    for i in nums:\n",
    "        hash_table[i] += 1\n",
    "\n",
    "    for i in hash_table:\n",
    "        if hash_table[i] == 1: #if value is equal to 1 aka if value has a frequency of 1 in the defaultdict\n",
    "            return (i) #print that value/key\n",
    "        \n",
    "        #Runtime: 88ms"
   ]
  },
  {
   "cell_type": "markdown",
   "metadata": {},
   "source": [
    "### Example:"
   ]
  },
  {
   "cell_type": "code",
   "execution_count": 3,
   "metadata": {},
   "outputs": [
    {
     "name": "stdout",
     "output_type": "stream",
     "text": [
      "1\n"
     ]
    }
   ],
   "source": [
    "nums = [2,2,1]\n",
    "\n",
    "print (singleNumber(nums))"
   ]
  },
  {
   "cell_type": "markdown",
   "metadata": {},
   "source": [
    "# 217. Contains Duplicate"
   ]
  },
  {
   "cell_type": "markdown",
   "metadata": {},
   "source": [
    "Given an array of integers, find if the array contains any duplicates.\n",
    "\n",
    "Your function should return true if any value appears at least twice in the array, and it should return false if every element is distinct."
   ]
  },
  {
   "cell_type": "code",
   "execution_count": 4,
   "metadata": {},
   "outputs": [],
   "source": [
    "from collections import defaultdict\n",
    "def containsDuplicate(nums):\n",
    "    hash_table = defaultdict(int)\n",
    "    for i, num in enumerate(nums):\n",
    "        hash_table[num] += 1\n",
    "    if {k:v for (k,v) in hash_table.items() if v > 1}: #dictionary comprehension checking for values that appear           more than once\n",
    "        return True #returns true if the dict. comprehension exists (i.e., if there are values > 1 in hash_table)\n",
    "    return False #returns false otherwise\n",
    "    \n",
    "    #Runtime: 132 ms, faster than 17.77% of Python3 online submissions for Contains Duplicate.\n",
    "    #Memory Usage: 21.1 MB, less than 28.00% of Python3 online submissions for Contains Duplicate."
   ]
  },
  {
   "cell_type": "code",
   "execution_count": 6,
   "metadata": {},
   "outputs": [
    {
     "name": "stdout",
     "output_type": "stream",
     "text": [
      "True\n"
     ]
    }
   ],
   "source": [
    "#Examples:\n",
    "\n",
    "test = [1,2,3,1]\n",
    "print(containsDuplicate(test))"
   ]
  },
  {
   "cell_type": "code",
   "execution_count": 7,
   "metadata": {},
   "outputs": [
    {
     "name": "stdout",
     "output_type": "stream",
     "text": [
      "False\n"
     ]
    }
   ],
   "source": [
    "test = [1,2,3]\n",
    "print(containsDuplicate(test))"
   ]
  },
  {
   "cell_type": "markdown",
   "metadata": {},
   "source": [
    "# 2. Add Two Numbers\n",
    "\n",
    "You are given two non-empty linked lists representing two non-negative integers. The digits are stored in reverse order, and each of their nodes contains a single digit. Add the two numbers and return the sum as a linked list.\n",
    "\n",
    "You may assume the two numbers do not contain any leading zero, except the number 0 itself."
   ]
  },
  {
   "cell_type": "code",
   "execution_count": 4,
   "metadata": {},
   "outputs": [],
   "source": [
    "# Definition for singly-linked list.\n",
    "class ListNode:\n",
    "    def __init__(self, val=0, next=None):\n",
    "        self.val = val\n",
    "        self.next = next\n",
    "\n",
    "class Solution:\n",
    "    def addTwoNumbers(self, l1, l2):\n",
    "        lst1 = []\n",
    "        lst2 = []\n",
    "        \n",
    "        #converting the ListNode objects to arrays:\n",
    "        while l1 is not None: \n",
    "            lst1.append(l1.val)\n",
    "            l1 = l1.next\n",
    "            \n",
    "        while l2 is not None:\n",
    "            lst2.append(l2.val)\n",
    "            l2 = l2.next\n",
    "        #reversing the lists\n",
    "        lst1.reverse() \n",
    "        lst2.reverse()\n",
    "        \n",
    "        int1 = int(\"\".join(map(str, lst1)))\n",
    "        int2 = int(\"\".join(map(str, lst2)))\n",
    "        sum = int1 + int2\n",
    "        rev_sum = [int(x) for x in str(sum)]\n",
    "        rev_sum.reverse()\n",
    "\n",
    "        objs = []\n",
    "        for i in range(0,len(rev_sum)):\n",
    "            nodei = ListNode(rev_sum[i])\n",
    "            objs.append(nodei)\n",
    "\n",
    "        for i in range(0, len(objs)-1):\n",
    "            objs[i].next = objs[i+1]\n",
    "        return(objs[0])\n",
    "    \n",
    "#Runtime: 122 ms, faster than 10.47% of Python3 online submissions for Add Two Numbers.\n",
    "#Memory Usage: 14.5 MB, less than 11.69% of Python3 online submissions for Add Two Numbers."
   ]
  },
  {
   "cell_type": "code",
   "execution_count": null,
   "metadata": {},
   "outputs": [],
   "source": []
  }
 ],
 "metadata": {
  "kernelspec": {
   "display_name": "Python 3",
   "language": "python",
   "name": "python3"
  },
  "language_info": {
   "codemirror_mode": {
    "name": "ipython",
    "version": 3
   },
   "file_extension": ".py",
   "mimetype": "text/x-python",
   "name": "python",
   "nbconvert_exporter": "python",
   "pygments_lexer": "ipython3",
   "version": "3.7.3"
  }
 },
 "nbformat": 4,
 "nbformat_minor": 2
}
