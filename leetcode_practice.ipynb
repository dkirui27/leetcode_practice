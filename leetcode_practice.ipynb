{
 "cells": [
  {
   "cell_type": "markdown",
   "metadata": {},
   "source": [
    "# Leetcode Practice"
   ]
  },
  {
   "cell_type": "markdown",
   "metadata": {},
   "source": [
    "## 122. Best Time to Buy and Sell Stock II"
   ]
  },
  {
   "cell_type": "markdown",
   "metadata": {},
   "source": [
    "Say you have an array prices for which the ith element is the price of a given stock on day i.\n",
    "\n",
    "Design an algorithm to find the maximum profit. You may complete as many transactions as you like (i.e., buy one and sell one share of the stock multiple times).\n",
    "\n",
    "Note: You may not engage in multiple transactions at the same time (i.e., you must sell the stock before you buy again)."
   ]
  },
  {
   "cell_type": "code",
   "execution_count": 2,
   "metadata": {},
   "outputs": [],
   "source": [
    "#function\n",
    "def maxProfit( prices):\n",
    "    profit = []\n",
    "    for i in range(1,len(prices)):\n",
    "        profit.append(prices[i] - prices[i-1]) #taking the difference\n",
    "\n",
    "    for i,num in enumerate(profit): #replacing neg differences with zero\n",
    "        if num <= 0:\n",
    "            profit[i] = 0\n",
    "        else:\n",
    "            profit[i] = num\n",
    "\n",
    "    return sum(profit)\n",
    "\n",
    "\n",
    "    #buy when low, sell when high\n",
    "    #sum all profits\n",
    "    #Runtime: 76 ms, faster than 34.17% of Python3 online submissions for Best Time to Buy and Sell Stock II.\n",
    "    #Memory Usage: 15.2 MB, less than 48.17% of Python3 online submissions for Best Time to Buy and Sell Stock II."
   ]
  },
  {
   "cell_type": "code",
   "execution_count": 3,
   "metadata": {},
   "outputs": [
    {
     "data": {
      "text/plain": [
       "7"
      ]
     },
     "execution_count": 3,
     "metadata": {},
     "output_type": "execute_result"
    }
   ],
   "source": [
    "#test\n",
    "test = [7,1,5,3,6,4]\n",
    "maxProfit(test)"
   ]
  },
  {
   "cell_type": "markdown",
   "metadata": {},
   "source": [
    "Input: [7,1,5,3,6,4]\n",
    "\n",
    "Output: 7\n",
    "\n",
    "Explanation: Buy on day 2 (price = 1) and sell on day 3 (price = 5), profit = 5-1 = 4.\n",
    "             Then buy on day 4 (price = 3) and sell on day 5 (price = 6), profit = 6-3 = 3."
   ]
  },
  {
   "cell_type": "markdown",
   "metadata": {},
   "source": [
    "# 189. Rotate Array"
   ]
  },
  {
   "cell_type": "markdown",
   "metadata": {},
   "source": [
    "Given an array, rotate the array to the right by k steps, where k is non-negative.\n",
    "\n",
    "Follow up:\n",
    "\n",
    "Try to come up as many solutions as you can, there are at least 3 different ways to solve this problem.\n",
    "Could you do it in-place with O(1) extra space?"
   ]
  },
  {
   "cell_type": "code",
   "execution_count": 38,
   "metadata": {},
   "outputs": [],
   "source": [
    "def rotate(nums, k):\n",
    "    if k > -1 and k <= len(nums):\n",
    "        i = abs(len(nums) - k)\n",
    "        nums.extend(nums[0:i]) #adds the first three numbers to the back\n",
    "        del nums[0:i] #deletes the same numbers from the front\n",
    "        return nums \n",
    "    elif k > len(nums):\n",
    "        for i in range(0,k):\n",
    "            j = nums[-1]\n",
    "            nums.insert(0,j) #adds 1 to the front of the list\n",
    "            del nums[-1] #removes the last element from the back of the list\n",
    "        return nums\n",
    "    else:\n",
    "        return \"Error: K is too large or non-positive\"\n",
    "    \n",
    "    #Runtime: 48 ms, faster than 99.86% of Python3 online submissions for Rotate Array.\n",
    "    #Memory Usage: 15.3 MB, less than 67.33% of Python3 online submissions for Rotate Array."
   ]
  },
  {
   "cell_type": "code",
   "execution_count": 39,
   "metadata": {},
   "outputs": [],
   "source": [
    "#test\n",
    "nums = [1,2,3,4,5,6,7]\n",
    "k = 3"
   ]
  },
  {
   "cell_type": "code",
   "execution_count": 40,
   "metadata": {},
   "outputs": [
    {
     "data": {
      "text/plain": [
       "[5, 6, 7, 1, 2, 3, 4]"
      ]
     },
     "execution_count": 40,
     "metadata": {},
     "output_type": "execute_result"
    }
   ],
   "source": [
    "rotate(nums, k)"
   ]
  },
  {
   "cell_type": "markdown",
   "metadata": {},
   "source": [
    "Input: nums = [1,2,3,4,5,6,7], k = 3\n",
    "\n",
    "Output: [5,6,7,1,2,3,4]\n",
    "\n",
    "Explanation:\n",
    "\n",
    "rotate 1 steps to the right: [7,1,2,3,4,5,6]\n",
    "\n",
    "rotate 2 steps to the right: [6,7,1,2,3,4,5]\n",
    "\n",
    "rotate 3 steps to the right: [5,6,7,1,2,3,4]"
   ]
  },
  {
   "cell_type": "markdown",
   "metadata": {},
   "source": [
    "# 350. Intersection of Two Arrays II"
   ]
  },
  {
   "cell_type": "markdown",
   "metadata": {},
   "source": [
    "Given two arrays, write a function to compute their intersection."
   ]
  },
  {
   "cell_type": "code",
   "execution_count": 15,
   "metadata": {},
   "outputs": [],
   "source": [
    "def intersect(nums1, nums2):\n",
    "    result = [] #creating result array\n",
    "    for num in nums1:\n",
    "        if num in nums2:\n",
    "            result.append(num)\n",
    "            nums2.remove(num)\n",
    "    return result\n",
    "    #Runtime: 132 ms, faster than 5.12% of Python3 online submissions for Intersection of Two Arrays II.\n",
    "    #Memory Usage: 14.2 MB, less than 7.71% of Python3 online submissions for Intersection of Two Arrays II."
   ]
  },
  {
   "cell_type": "code",
   "execution_count": 16,
   "metadata": {},
   "outputs": [],
   "source": [
    "#test\n",
    "nums1 = [1,2,2,1]\n",
    "nums2 = [2,2]"
   ]
  },
  {
   "cell_type": "code",
   "execution_count": 17,
   "metadata": {},
   "outputs": [
    {
     "data": {
      "text/plain": [
       "[2, 2]"
      ]
     },
     "execution_count": 17,
     "metadata": {},
     "output_type": "execute_result"
    }
   ],
   "source": [
    "intersect(nums1, nums2)"
   ]
  },
  {
   "cell_type": "markdown",
   "metadata": {},
   "source": [
    "Input: nums1 = [1,2,2,1], nums2 = [2,2]\n",
    "\n",
    "Output: [2,2]"
   ]
  },
  {
   "cell_type": "markdown",
   "metadata": {},
   "source": [
    "# 66. Plus One"
   ]
  },
  {
   "cell_type": "markdown",
   "metadata": {},
   "source": [
    "Given a non-empty array of digits representing a non-negative integer, increment one to the integer.\n",
    "\n",
    "The digits are stored such that the most significant digit is at the head of the list, and each element in the array contains a single digit.\n",
    "\n",
    "You may assume the integer does not contain any leading zero, except the number 0 itself."
   ]
  },
  {
   "cell_type": "code",
   "execution_count": 21,
   "metadata": {},
   "outputs": [],
   "source": [
    "def plusOne(digits):\n",
    "    convert = [str(i) for i in digits]\n",
    "    squish = \"\".join(convert)\n",
    "    num = int(squish)\n",
    "    new = num + 1\n",
    "    a_list = [int(x) for x in str(new)]\n",
    "    return a_list\n",
    "\n",
    "#Runtime: 56 ms, faster than 10.53% of Python3 online submissions for Plus One.\n",
    "#Memory Usage: 13.9 MB, less than 39.28% of Python3 online submissions for Plus One."
   ]
  },
  {
   "cell_type": "code",
   "execution_count": 22,
   "metadata": {},
   "outputs": [
    {
     "data": {
      "text/plain": [
       "[1, 2, 4]"
      ]
     },
     "execution_count": 22,
     "metadata": {},
     "output_type": "execute_result"
    }
   ],
   "source": [
    "#test\n",
    "digits = [1,2,3]\n",
    "plusOne(digits)"
   ]
  },
  {
   "cell_type": "markdown",
   "metadata": {},
   "source": [
    "Input: digits = [1,2,3]\n",
    "    \n",
    "Output: [1,2,4]\n",
    "    \n",
    "Explanation: The array represents the integer 123."
   ]
  },
  {
   "cell_type": "markdown",
   "metadata": {},
   "source": [
    "# 283. Move Zeros"
   ]
  },
  {
   "cell_type": "markdown",
   "metadata": {},
   "source": [
    "\n",
    "Given an array nums, write a function to move all 0's to the end of it while maintaining the relative order of the non-zero elements.\n",
    "\n",
    "Note:\n",
    "\n",
    "You must do this in-place without making a copy of the array.\n",
    "Minimize the total number of operations."
   ]
  },
  {
   "cell_type": "code",
   "execution_count": 36,
   "metadata": {},
   "outputs": [],
   "source": [
    "def moveZeroes(nums):\n",
    "    for num in nums:\n",
    "        if num == 0:\n",
    "            nums.remove(num)\n",
    "            nums.append(num)\n",
    "            \n",
    "#Runtime: 228 ms, faster than 14.21% of Python3 online submissions for Move Zeroes.\n",
    "#Memory Usage: 14.9 MB, less than 95.23% of Python3 online submissions for Move Zeroes."
   ]
  },
  {
   "cell_type": "code",
   "execution_count": 37,
   "metadata": {},
   "outputs": [
    {
     "name": "stdout",
     "output_type": "stream",
     "text": [
      "[1, 3, 12, 0, 0]\n"
     ]
    }
   ],
   "source": [
    "#test\n",
    "test = [0,1,0,3,12]\n",
    "moveZeroes(test)\n",
    "print(test)"
   ]
  },
  {
   "cell_type": "markdown",
   "metadata": {},
   "source": [
    "Example:\n",
    "\n",
    "Input: [0,1,0,3,12]\n",
    "\n",
    "Output: [1,3,12,0,0]"
   ]
  },
  {
   "cell_type": "markdown",
   "metadata": {},
   "source": [
    "# 344. Reverse String"
   ]
  },
  {
   "cell_type": "markdown",
   "metadata": {},
   "source": [
    "Write a function that reverses a string. The input string is given as an array of characters char[].\n",
    "\n",
    "Do not allocate extra space for another array, you must do this by modifying the input array in-place with O(1) extra memory.\n",
    "\n",
    "You may assume all the characters consist of printable ascii characters."
   ]
  },
  {
   "cell_type": "code",
   "execution_count": 53,
   "metadata": {},
   "outputs": [],
   "source": [
    "def reverseString(s):\n",
    "    s.reverse()\n",
    "    #Runtime: 308 ms, faster than 18.66% of Python3 online submissions for Reverse String.\n",
    "    #Memory Usage: 18.1 MB, less than 89.58% of Python3 online submissions for Reverse String."
   ]
  },
  {
   "cell_type": "code",
   "execution_count": 54,
   "metadata": {},
   "outputs": [],
   "source": [
    "#test\n",
    "test = [\"h\",\"e\",\"l\",\"l\",\"o\"]"
   ]
  },
  {
   "cell_type": "code",
   "execution_count": 55,
   "metadata": {},
   "outputs": [],
   "source": [
    "reverseString(test)"
   ]
  },
  {
   "cell_type": "code",
   "execution_count": 56,
   "metadata": {},
   "outputs": [
    {
     "name": "stdout",
     "output_type": "stream",
     "text": [
      "['o', 'l', 'l', 'e', 'h']\n"
     ]
    }
   ],
   "source": [
    "print(test)"
   ]
  },
  {
   "cell_type": "markdown",
   "metadata": {},
   "source": [
    "Example:\n",
    "    \n",
    "Input: [\"h\",\"e\",\"l\",\"l\",\"o\"]\n",
    "    \n",
    "Output: [\"o\",\"l\",\"l\",\"e\",\"h\"]"
   ]
  },
  {
   "cell_type": "markdown",
   "metadata": {},
   "source": [
    "# 7. Reverse Integer"
   ]
  },
  {
   "cell_type": "markdown",
   "metadata": {},
   "source": [
    "Given a 32-bit signed integer, reverse digits of an integer.\n",
    "\n",
    "Note:\n",
    "Assume we are dealing with an environment which could only store integers within the 32-bit signed integer range: [−231,  231 − 1]. For the purpose of this problem, assume that your function returns 0 when the reversed integer overflows."
   ]
  },
  {
   "cell_type": "code",
   "execution_count": 1,
   "metadata": {},
   "outputs": [],
   "source": [
    "def reverse(x):\n",
    "    if str(x)[0] == '-':\n",
    "        x = list(str(x))[1:]\n",
    "        x.reverse()\n",
    "        a = \"\".join(x)\n",
    "        test = int(a) * -1\n",
    "        if test > -2**31:\n",
    "            return test\n",
    "        else:\n",
    "            return 0\n",
    "    else:\n",
    "        x = list(str(x))\n",
    "        x.reverse()\n",
    "        a = \"\".join(x)\n",
    "        test = int(a)\n",
    "        if test < ((2**31)-1):\n",
    "            return test\n",
    "        else:\n",
    "            return 0\n",
    "        \n",
    "        #Runtime: 56 ms, faster than 10.85% of Python3 online submissions for Reverse Integer.\n",
    "        #Memory Usage: 13.8 MB, less than 67.51% of Python3 online submissions for Reverse Integer."
   ]
  },
  {
   "cell_type": "code",
   "execution_count": 2,
   "metadata": {},
   "outputs": [],
   "source": [
    "x = -123"
   ]
  },
  {
   "cell_type": "code",
   "execution_count": 3,
   "metadata": {},
   "outputs": [
    {
     "data": {
      "text/plain": [
       "-321"
      ]
     },
     "execution_count": 3,
     "metadata": {},
     "output_type": "execute_result"
    }
   ],
   "source": [
    "reverse(x)"
   ]
  },
  {
   "cell_type": "markdown",
   "metadata": {},
   "source": [
    "Example 2:\n",
    "\n",
    "Input: -123\n",
    "\n",
    "Output: -321"
   ]
  },
  {
   "cell_type": "markdown",
   "metadata": {},
   "source": [
    "# 387. First Unique Character in a String"
   ]
  },
  {
   "cell_type": "markdown",
   "metadata": {},
   "source": [
    "Given a string, find the first non-repeating character in it and return its index. If it doesn't exist, return -1."
   ]
  },
  {
   "cell_type": "code",
   "execution_count": 7,
   "metadata": {},
   "outputs": [],
   "source": [
    "from collections import defaultdict\n",
    "def firstUniqChar(nums):\n",
    "    if len(nums) > 0: #if list is not empty\n",
    "        test = list(nums)\n",
    "        hash_table = defaultdict(int) #default dict an empty dictionary of integers (ints) that fill all empty keys, so you don't get a                                            #key error\n",
    "        for i in nums:\n",
    "            hash_table[i] += 1 #counts how many times each element in the list appears\n",
    "\n",
    "        for let in hash_table:\n",
    "            if hash_table[let] == 1: #if value is equal to 1 aka if value has a frequency of 1 in the defaultdict\n",
    "                #NOTE: this will catch the first unique character bc the hash-table preserves the original list order\n",
    "                return test.index(let) #print the index of test that corresponds to that value (letter)\n",
    "        return -1\n",
    "    else:\n",
    "        return -1\n",
    "    #Runtime: 108 ms, faster than 72.69% of Python3 online submissions for First Unique Character in a String.\n",
    "    #Memory Usage: 14 MB, less than 26.49% of Python3 online submissions for First Unique Character in a String.\n"
   ]
  },
  {
   "cell_type": "code",
   "execution_count": 8,
   "metadata": {},
   "outputs": [],
   "source": [
    "test = \"loveleetcode\""
   ]
  },
  {
   "cell_type": "code",
   "execution_count": 9,
   "metadata": {},
   "outputs": [
    {
     "name": "stdout",
     "output_type": "stream",
     "text": [
      "2\n"
     ]
    }
   ],
   "source": [
    "print(firstUniqChar(test))"
   ]
  },
  {
   "cell_type": "markdown",
   "metadata": {},
   "source": [
    "Examples:\n",
    "\n",
    "s = \"leetcode\"\n",
    "return 0.\n",
    "\n",
    "s = \"loveleetcode\"\n",
    "return 2."
   ]
  },
  {
   "cell_type": "code",
   "execution_count": null,
   "metadata": {},
   "outputs": [],
   "source": []
  }
 ],
 "metadata": {
  "kernelspec": {
   "display_name": "Python 3",
   "language": "python",
   "name": "python3"
  },
  "language_info": {
   "codemirror_mode": {
    "name": "ipython",
    "version": 3
   },
   "file_extension": ".py",
   "mimetype": "text/x-python",
   "name": "python",
   "nbconvert_exporter": "python",
   "pygments_lexer": "ipython3",
   "version": "3.7.3"
  }
 },
 "nbformat": 4,
 "nbformat_minor": 2
}
